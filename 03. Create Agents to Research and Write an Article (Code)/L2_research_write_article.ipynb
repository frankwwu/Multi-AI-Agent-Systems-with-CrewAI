{
 "cells": [
  {
   "cell_type": "markdown",
   "metadata": {},
   "source": [
    "You can download the `requirements.txt` for this course from the workspace of this lab. `File --> Open...`"
   ]
  },
  {
   "cell_type": "markdown",
   "metadata": {},
   "source": [
    "# L2: Create Agents to Research and Write an Article\n",
    "\n",
    "In this lesson, you will be introduced to the foundational concepts of multi-agent systems and get an overview of the crewAI framework."
   ]
  },
  {
   "cell_type": "markdown",
   "metadata": {},
   "source": [
    "The libraries are already installed in the classroom. If you're running this notebook on your own machine, you can install the following:\n",
    "```Python\n",
    "!pip install crewai==0.28.8 crewai_tools==0.1.6 langchain_community==0.0.29\n",
    "```"
   ]
  },
  {
   "cell_type": "code",
   "execution_count": 1,
   "metadata": {
    "height": 64
   },
   "outputs": [],
   "source": [
    "# Warning control\n",
    "import warnings\n",
    "warnings.filterwarnings('ignore')"
   ]
  },
  {
   "cell_type": "markdown",
   "metadata": {},
   "source": [
    "- Import from the crewAI libray."
   ]
  },
  {
   "cell_type": "code",
   "execution_count": 2,
   "metadata": {
    "height": 30
   },
   "outputs": [],
   "source": [
    "from crewai import Agent, Task, Crew"
   ]
  },
  {
   "cell_type": "markdown",
   "metadata": {},
   "source": [
    "- As a LLM for your agents, you'll be using OpenAI's `gpt-3.5-turbo`.\n",
    "\n",
    "**Optional Note:** crewAI also allow other popular models to be used as a LLM for your Agents. You can see some of the examples at the [bottom of the notebook](#1)."
   ]
  },
  {
   "cell_type": "code",
   "execution_count": 3,
   "metadata": {
    "height": 98
   },
   "outputs": [],
   "source": [
    "import os\n",
    "from utils import get_openai_api_key\n",
    "\n",
    "openai_api_key = get_openai_api_key()\n",
    "os.environ[\"OPENAI_MODEL_NAME\"] = 'gpt-3.5-turbo'"
   ]
  },
  {
   "cell_type": "markdown",
   "metadata": {},
   "source": [
    "## Creating Agents\n",
    "\n",
    "- Define your Agents, and provide them a `role`, `goal` and `backstory`.\n",
    "- It has been seen that LLMs perform better when they are role playing."
   ]
  },
  {
   "cell_type": "markdown",
   "metadata": {},
   "source": [
    "### Agent: Planner\n",
    "\n",
    "**Note**: The benefit of using _multiple strings_ :\n",
    "```Python\n",
    "varname = \"line 1 of text\"\n",
    "          \"line 2 of text\"\n",
    "```\n",
    "\n",
    "versus the _triple quote docstring_:\n",
    "```Python\n",
    "varname = \"\"\"line 1 of text\n",
    "             line 2 of text\n",
    "          \"\"\"\n",
    "```\n",
    "is that it can avoid adding those whitespaces and newline characters, making it better formatted to be passed to the LLM."
   ]
  },
  {
   "cell_type": "code",
   "execution_count": 4,
   "metadata": {
    "height": 234
   },
   "outputs": [],
   "source": [
    "planner = Agent(\n",
    "    role=\"Content Planner\",\n",
    "    goal=\"Plan engaging and factually accurate content on {topic}\",\n",
    "    backstory=\"You're working on planning a blog article \"\n",
    "              \"about the topic: {topic}.\"\n",
    "              \"You collect information that helps the \"\n",
    "              \"audience learn something \"\n",
    "              \"and make informed decisions. \"\n",
    "              \"Your work is the basis for \"\n",
    "              \"the Content Writer to write an article on this topic.\",\n",
    "    allow_delegation=False,\n",
    "\tverbose=True\n",
    ")"
   ]
  },
  {
   "cell_type": "markdown",
   "metadata": {},
   "source": [
    "### Agent: Writer"
   ]
  },
  {
   "cell_type": "code",
   "execution_count": 5,
   "metadata": {
    "height": 370
   },
   "outputs": [],
   "source": [
    "writer = Agent(\n",
    "    role=\"Content Writer\",\n",
    "    goal=\"Write insightful and factually accurate \"\n",
    "         \"opinion piece about the topic: {topic}\",\n",
    "    backstory=\"You're working on a writing \"\n",
    "              \"a new opinion piece about the topic: {topic}. \"\n",
    "              \"You base your writing on the work of \"\n",
    "              \"the Content Planner, who provides an outline \"\n",
    "              \"and relevant context about the topic. \"\n",
    "              \"You follow the main objectives and \"\n",
    "              \"direction of the outline, \"\n",
    "              \"as provide by the Content Planner. \"\n",
    "              \"You also provide objective and impartial insights \"\n",
    "              \"and back them up with information \"\n",
    "              \"provide by the Content Planner. \"\n",
    "              \"You acknowledge in your opinion piece \"\n",
    "              \"when your statements are opinions \"\n",
    "              \"as opposed to objective statements.\",\n",
    "    allow_delegation=False,\n",
    "    verbose=True\n",
    ")"
   ]
  },
  {
   "cell_type": "markdown",
   "metadata": {},
   "source": [
    "### Agent: Editor"
   ]
  },
  {
   "cell_type": "code",
   "execution_count": 6,
   "metadata": {
    "height": 268
   },
   "outputs": [],
   "source": [
    "editor = Agent(\n",
    "    role=\"Editor\",\n",
    "    goal=\"Edit a given blog post to align with \"\n",
    "         \"the writing style of the organization. \",\n",
    "    backstory=\"You are an editor who receives a blog post \"\n",
    "              \"from the Content Writer. \"\n",
    "              \"Your goal is to review the blog post \"\n",
    "              \"to ensure that it follows journalistic best practices,\"\n",
    "              \"provides balanced viewpoints \"\n",
    "              \"when providing opinions or assertions, \"\n",
    "              \"and also avoids major controversial topics \"\n",
    "              \"or opinions when possible.\",\n",
    "    allow_delegation=False,\n",
    "    verbose=True\n",
    ")"
   ]
  },
  {
   "cell_type": "markdown",
   "metadata": {},
   "source": [
    "## Creating Tasks\n",
    "\n",
    "- Define your Tasks, and provide them a `description`, `expected_output` and `agent`."
   ]
  },
  {
   "cell_type": "markdown",
   "metadata": {},
   "source": [
    "### Task: Plan"
   ]
  },
  {
   "cell_type": "code",
   "execution_count": 7,
   "metadata": {
    "height": 268
   },
   "outputs": [],
   "source": [
    "plan = Task(\n",
    "    description=(\n",
    "        \"1. Prioritize the latest trends, key players, \"\n",
    "            \"and noteworthy news on {topic}.\\n\"\n",
    "        \"2. Identify the target audience, considering \"\n",
    "            \"their interests and pain points.\\n\"\n",
    "        \"3. Develop a detailed content outline including \"\n",
    "            \"an introduction, key points, and a call to action.\\n\"\n",
    "        \"4. Include SEO keywords and relevant data or sources.\"\n",
    "    ),\n",
    "    expected_output=\"A comprehensive content plan document \"\n",
    "        \"with an outline, audience analysis, \"\n",
    "        \"SEO keywords, and resources.\",\n",
    "    agent=planner,\n",
    ")"
   ]
  },
  {
   "cell_type": "markdown",
   "metadata": {},
   "source": [
    "### Task: Write"
   ]
  },
  {
   "cell_type": "code",
   "execution_count": 8,
   "metadata": {
    "height": 319
   },
   "outputs": [],
   "source": [
    "write = Task(\n",
    "    description=(\n",
    "        \"1. Use the content plan to craft a compelling \"\n",
    "            \"blog post on {topic}.\\n\"\n",
    "        \"2. Incorporate SEO keywords naturally.\\n\"\n",
    "\t\t\"3. Sections/Subtitles are properly named \"\n",
    "            \"in an engaging manner.\\n\"\n",
    "        \"4. Ensure the post is structured with an \"\n",
    "            \"engaging introduction, insightful body, \"\n",
    "            \"and a summarizing conclusion.\\n\"\n",
    "        \"5. Proofread for grammatical errors and \"\n",
    "            \"alignment with the brand's voice.\\n\"\n",
    "    ),\n",
    "    expected_output=\"A well-written blog post \"\n",
    "        \"in markdown format, ready for publication, \"\n",
    "        \"each section should have 2 or 3 paragraphs.\",\n",
    "    agent=writer,\n",
    ")"
   ]
  },
  {
   "cell_type": "markdown",
   "metadata": {},
   "source": [
    "### Task: Edit"
   ]
  },
  {
   "cell_type": "code",
   "execution_count": 9,
   "metadata": {
    "height": 166
   },
   "outputs": [],
   "source": [
    "edit = Task(\n",
    "    description=(\"Proofread the given blog post for \"\n",
    "                 \"grammatical errors and \"\n",
    "                 \"alignment with the brand's voice.\"),\n",
    "    expected_output=\"A well-written blog post in markdown format, \"\n",
    "                    \"ready for publication, \"\n",
    "                    \"each section should have 2 or 3 paragraphs.\",\n",
    "    agent=editor\n",
    ")"
   ]
  },
  {
   "cell_type": "markdown",
   "metadata": {},
   "source": [
    "## Creating the Crew\n",
    "\n",
    "- Create your crew of Agents\n",
    "- Pass the tasks to be performed by those agents.\n",
    "    - **Note**: *For this simple example*, the tasks will be performed sequentially (i.e they are dependent on each other), so the _order_ of the task in the list _matters_.\n",
    "- `verbose=2` allows you to see all the logs of the execution. "
   ]
  },
  {
   "cell_type": "code",
   "execution_count": 10,
   "metadata": {
    "height": 98
   },
   "outputs": [],
   "source": [
    "crew = Crew(\n",
    "    agents=[planner, writer, editor],\n",
    "    tasks=[plan, write, edit],\n",
    "    verbose=2\n",
    ")"
   ]
  },
  {
   "cell_type": "markdown",
   "metadata": {},
   "source": [
    "## Running the Crew"
   ]
  },
  {
   "cell_type": "markdown",
   "metadata": {},
   "source": [
    "**Note**: LLMs can provide different outputs for they same input, so what you get might be different than what you see in the video."
   ]
  },
  {
   "cell_type": "code",
   "execution_count": 11,
   "metadata": {
    "height": 30
   },
   "outputs": [
    {
     "name": "stdout",
     "output_type": "stream",
     "text": [
      "\u001b[1m\u001b[95m [DEBUG]: == Working Agent: Content Planner\u001b[00m\n",
      "\u001b[1m\u001b[95m [INFO]: == Starting Task: 1. Prioritize the latest trends, key players, and noteworthy news on Artificial Intelligence.\n",
      "2. Identify the target audience, considering their interests and pain points.\n",
      "3. Develop a detailed content outline including an introduction, key points, and a call to action.\n",
      "4. Include SEO keywords and relevant data or sources.\u001b[00m\n",
      "\n",
      "\n",
      "\u001b[1m> Entering new CrewAgentExecutor chain...\u001b[0m\n",
      "\u001b[32;1m\u001b[1;3mI now can give a great answer\n",
      "\n",
      "Final Answer:\n",
      "Title: The Future of Artificial Intelligence: Trends, Players, and News\n",
      "\n",
      "Introduction:\n",
      "Artificial Intelligence (AI) has become a buzzword in the tech industry, with advancements and innovations constantly shaping the landscape. In this blog article, we will delve into the latest trends, key players, and noteworthy news in the field of AI.\n",
      "\n",
      "Key Points:\n",
      "1. Latest Trends in Artificial Intelligence:\n",
      "- Machine Learning and Deep Learning algorithms are revolutionizing industries such as healthcare, finance, and transportation.\n",
      "- Natural Language Processing (NLP) is enhancing customer service and communication.\n",
      "- AI-powered automation is streamlining processes and increasing efficiency in various sectors.\n",
      "\n",
      "2. Key Players in Artificial Intelligence:\n",
      "- Google: Known for its AI-powered products such as Google Assistant and Google Translate.\n",
      "- Amazon: Leading the way in AI-driven e-commerce and cloud services.\n",
      "- IBM: Pioneering AI research and development with its Watson platform.\n",
      "- Tesla: Innovating with self-driving technology and AI integration in electric vehicles.\n",
      "\n",
      "3. Noteworthy News in Artificial Intelligence:\n",
      "- OpenAI's GPT-3 model continues to impress with its language generation capabilities.\n",
      "- Microsoft's acquisition of Nuance Communications for $19.7 billion highlights the importance of AI in healthcare.\n",
      "- Facebook's AI research team is pushing the boundaries of AI ethics and responsible development.\n",
      "\n",
      "Target Audience:\n",
      "Our target audience includes tech enthusiasts, industry professionals, and business decision-makers interested in staying updated on the latest trends and developments in Artificial Intelligence. They are looking to gain insights into how AI can impact their businesses and daily lives.\n",
      "\n",
      "Call to Action:\n",
      "Stay tuned for more in-depth articles on specific AI topics and case studies to learn how you can leverage AI in your industry. Subscribe to our newsletter for the latest updates on Artificial Intelligence trends and news.\n",
      "\n",
      "SEO Keywords:\n",
      "- Artificial Intelligence trends\n",
      "- Key players in AI\n",
      "- Latest news on Artificial Intelligence\n",
      "- Machine Learning advancements\n",
      "- Deep Learning innovations\n",
      "- Natural Language Processing applications\n",
      "\n",
      "Resources:\n",
      "1. \"The AI Advantage: How to Put the Artificial Intelligence Revolution to Work\" by Thomas H. Davenport\n",
      "2. \"Prediction Machines: The Simple Economics of Artificial Intelligence\" by Ajay Agrawal, Joshua Gans, and Avi Goldfarb\n",
      "3. Forbes AI section: https://www.forbes.com/ai/\n",
      "4. TechCrunch AI news: https://techcrunch.com/tag/ai/\n",
      "\n",
      "By following this comprehensive content plan, we aim to provide valuable insights and information on Artificial Intelligence to our target audience, ultimately helping them make informed decisions and stay ahead in the rapidly evolving AI landscape.\u001b[0m\n",
      "\n",
      "\u001b[1m> Finished chain.\u001b[0m\n",
      "\u001b[1m\u001b[92m [DEBUG]: == [Content Planner] Task output: Title: The Future of Artificial Intelligence: Trends, Players, and News\n",
      "\n",
      "Introduction:\n",
      "Artificial Intelligence (AI) has become a buzzword in the tech industry, with advancements and innovations constantly shaping the landscape. In this blog article, we will delve into the latest trends, key players, and noteworthy news in the field of AI.\n",
      "\n",
      "Key Points:\n",
      "1. Latest Trends in Artificial Intelligence:\n",
      "- Machine Learning and Deep Learning algorithms are revolutionizing industries such as healthcare, finance, and transportation.\n",
      "- Natural Language Processing (NLP) is enhancing customer service and communication.\n",
      "- AI-powered automation is streamlining processes and increasing efficiency in various sectors.\n",
      "\n",
      "2. Key Players in Artificial Intelligence:\n",
      "- Google: Known for its AI-powered products such as Google Assistant and Google Translate.\n",
      "- Amazon: Leading the way in AI-driven e-commerce and cloud services.\n",
      "- IBM: Pioneering AI research and development with its Watson platform.\n",
      "- Tesla: Innovating with self-driving technology and AI integration in electric vehicles.\n",
      "\n",
      "3. Noteworthy News in Artificial Intelligence:\n",
      "- OpenAI's GPT-3 model continues to impress with its language generation capabilities.\n",
      "- Microsoft's acquisition of Nuance Communications for $19.7 billion highlights the importance of AI in healthcare.\n",
      "- Facebook's AI research team is pushing the boundaries of AI ethics and responsible development.\n",
      "\n",
      "Target Audience:\n",
      "Our target audience includes tech enthusiasts, industry professionals, and business decision-makers interested in staying updated on the latest trends and developments in Artificial Intelligence. They are looking to gain insights into how AI can impact their businesses and daily lives.\n",
      "\n",
      "Call to Action:\n",
      "Stay tuned for more in-depth articles on specific AI topics and case studies to learn how you can leverage AI in your industry. Subscribe to our newsletter for the latest updates on Artificial Intelligence trends and news.\n",
      "\n",
      "SEO Keywords:\n",
      "- Artificial Intelligence trends\n",
      "- Key players in AI\n",
      "- Latest news on Artificial Intelligence\n",
      "- Machine Learning advancements\n",
      "- Deep Learning innovations\n",
      "- Natural Language Processing applications\n",
      "\n",
      "Resources:\n",
      "1. \"The AI Advantage: How to Put the Artificial Intelligence Revolution to Work\" by Thomas H. Davenport\n",
      "2. \"Prediction Machines: The Simple Economics of Artificial Intelligence\" by Ajay Agrawal, Joshua Gans, and Avi Goldfarb\n",
      "3. Forbes AI section: https://www.forbes.com/ai/\n",
      "4. TechCrunch AI news: https://techcrunch.com/tag/ai/\n",
      "\n",
      "By following this comprehensive content plan, we aim to provide valuable insights and information on Artificial Intelligence to our target audience, ultimately helping them make informed decisions and stay ahead in the rapidly evolving AI landscape.\n",
      "\n",
      "\u001b[00m\n",
      "\u001b[1m\u001b[95m [DEBUG]: == Working Agent: Content Writer\u001b[00m\n",
      "\u001b[1m\u001b[95m [INFO]: == Starting Task: 1. Use the content plan to craft a compelling blog post on Artificial Intelligence.\n",
      "2. Incorporate SEO keywords naturally.\n",
      "3. Sections/Subtitles are properly named in an engaging manner.\n",
      "4. Ensure the post is structured with an engaging introduction, insightful body, and a summarizing conclusion.\n",
      "5. Proofread for grammatical errors and alignment with the brand's voice.\n",
      "\u001b[00m\n",
      "\n",
      "\n",
      "\u001b[1m> Entering new CrewAgentExecutor chain...\u001b[0m\n",
      "\u001b[32;1m\u001b[1;3mI have a clear outline and context to work with, so I can craft a compelling blog post on Artificial Intelligence that is informative and engaging.\n",
      "\n",
      "Final Answer:\n",
      "\n",
      "# The Future of Artificial Intelligence: Trends, Players, and News\n",
      "\n",
      "## Introduction\n",
      "Artificial Intelligence (AI) has become a dominant force in the tech industry, driving innovation and transformation across various sectors. In this blog article, we will explore the latest trends, key players, and noteworthy news in the dynamic field of AI.\n",
      "\n",
      "## Latest Trends in Artificial Intelligence\n",
      "The rapid evolution of AI is evident in the increasing adoption of Machine Learning and Deep Learning algorithms. Industries like healthcare, finance, and transportation are leveraging these technologies to optimize processes, improve decision-making, and enhance customer experiences. Natural Language Processing (NLP) is another key trend, enabling businesses to communicate more effectively with customers through chatbots, virtual assistants, and sentiment analysis. Moreover, AI-powered automation is revolutionizing operations by streamlining workflows, reducing manual tasks, and driving efficiency gains across multiple sectors.\n",
      "\n",
      "## Key Players in Artificial Intelligence\n",
      "Several tech giants are at the forefront of AI innovation, shaping the landscape with their cutting-edge technologies and solutions. Google stands out with its AI-powered products such as Google Assistant and Google Translate, while Amazon leads in e-commerce and cloud services driven by AI. IBM is a key player in AI research and development, with its Watson platform driving advancements in natural language understanding and cognitive computing. Tesla is disrupting the automotive industry with its self-driving technology and AI integration in electric vehicles, setting new standards for safety and automation.\n",
      "\n",
      "## Noteworthy News in Artificial Intelligence\n",
      "Recent developments in AI have been making headlines, showcasing the remarkable capabilities of advanced technologies. OpenAI's GPT-3 model continues to impress with its language generation capabilities, pushing the boundaries of AI-generated content. Microsoft's acquisition of Nuance Communications for $19.7 billion underscores the growing importance of AI in healthcare, with AI-powered solutions transforming patient care and medical diagnostics. Facebook's AI research team is at the forefront of exploring ethical implications and responsible development practices in AI, emphasizing the need for transparency and accountability in the deployment of AI technologies.\n",
      "\n",
      "## Conclusion\n",
      "Artificial Intelligence is reshaping industries, driving innovation, and transforming the way we live and work. By staying informed about the latest trends, key players, and noteworthy news in AI, businesses and individuals can harness the power of AI to drive growth, efficiency, and competitive advantage. As the AI landscape continues to evolve, it is crucial to stay updated on the latest developments and opportunities in this dynamic field.\n",
      "\n",
      "*Stay tuned for more insightful articles on specific AI topics and case studies to learn how you can leverage AI in your industry. Subscribe to our newsletter for the latest updates on Artificial Intelligence trends and news.*\n",
      "\n",
      "By following this comprehensive content plan, we aim to provide valuable insights and information on Artificial Intelligence to our target audience, empowering them to make informed decisions and stay ahead in the rapidly evolving AI landscape.\u001b[0m\n",
      "\n",
      "\u001b[1m> Finished chain.\u001b[0m\n",
      "\u001b[1m\u001b[92m [DEBUG]: == [Content Writer] Task output: # The Future of Artificial Intelligence: Trends, Players, and News\n",
      "\n",
      "## Introduction\n",
      "Artificial Intelligence (AI) has become a dominant force in the tech industry, driving innovation and transformation across various sectors. In this blog article, we will explore the latest trends, key players, and noteworthy news in the dynamic field of AI.\n",
      "\n",
      "## Latest Trends in Artificial Intelligence\n",
      "The rapid evolution of AI is evident in the increasing adoption of Machine Learning and Deep Learning algorithms. Industries like healthcare, finance, and transportation are leveraging these technologies to optimize processes, improve decision-making, and enhance customer experiences. Natural Language Processing (NLP) is another key trend, enabling businesses to communicate more effectively with customers through chatbots, virtual assistants, and sentiment analysis. Moreover, AI-powered automation is revolutionizing operations by streamlining workflows, reducing manual tasks, and driving efficiency gains across multiple sectors.\n",
      "\n",
      "## Key Players in Artificial Intelligence\n",
      "Several tech giants are at the forefront of AI innovation, shaping the landscape with their cutting-edge technologies and solutions. Google stands out with its AI-powered products such as Google Assistant and Google Translate, while Amazon leads in e-commerce and cloud services driven by AI. IBM is a key player in AI research and development, with its Watson platform driving advancements in natural language understanding and cognitive computing. Tesla is disrupting the automotive industry with its self-driving technology and AI integration in electric vehicles, setting new standards for safety and automation.\n",
      "\n",
      "## Noteworthy News in Artificial Intelligence\n",
      "Recent developments in AI have been making headlines, showcasing the remarkable capabilities of advanced technologies. OpenAI's GPT-3 model continues to impress with its language generation capabilities, pushing the boundaries of AI-generated content. Microsoft's acquisition of Nuance Communications for $19.7 billion underscores the growing importance of AI in healthcare, with AI-powered solutions transforming patient care and medical diagnostics. Facebook's AI research team is at the forefront of exploring ethical implications and responsible development practices in AI, emphasizing the need for transparency and accountability in the deployment of AI technologies.\n",
      "\n",
      "## Conclusion\n",
      "Artificial Intelligence is reshaping industries, driving innovation, and transforming the way we live and work. By staying informed about the latest trends, key players, and noteworthy news in AI, businesses and individuals can harness the power of AI to drive growth, efficiency, and competitive advantage. As the AI landscape continues to evolve, it is crucial to stay updated on the latest developments and opportunities in this dynamic field.\n",
      "\n",
      "*Stay tuned for more insightful articles on specific AI topics and case studies to learn how you can leverage AI in your industry. Subscribe to our newsletter for the latest updates on Artificial Intelligence trends and news.*\n",
      "\n",
      "By following this comprehensive content plan, we aim to provide valuable insights and information on Artificial Intelligence to our target audience, empowering them to make informed decisions and stay ahead in the rapidly evolving AI landscape.\n",
      "\n",
      "\u001b[00m\n",
      "\u001b[1m\u001b[95m [DEBUG]: == Working Agent: Editor\u001b[00m\n",
      "\u001b[1m\u001b[95m [INFO]: == Starting Task: Proofread the given blog post for grammatical errors and alignment with the brand's voice.\u001b[00m\n",
      "\n",
      "\n",
      "\u001b[1m> Entering new CrewAgentExecutor chain...\u001b[0m\n"
     ]
    },
    {
     "name": "stdout",
     "output_type": "stream",
     "text": [
      "\u001b[32;1m\u001b[1;3mI now can give a great answer\n",
      "\n",
      "Final Answer: \n",
      "\n",
      "# The Future of Artificial Intelligence: Trends, Players, and News\n",
      "\n",
      "## Introduction\n",
      "Artificial Intelligence (AI) has become a dominant force in the tech industry, driving innovation and transformation across various sectors. In this blog article, we will explore the latest trends, key players, and noteworthy news in the dynamic field of AI.\n",
      "\n",
      "## Latest Trends in Artificial Intelligence\n",
      "The rapid evolution of AI is evident in the increasing adoption of Machine Learning and Deep Learning algorithms. Industries like healthcare, finance, and transportation are leveraging these technologies to optimize processes, improve decision-making, and enhance customer experiences. Natural Language Processing (NLP) is another key trend, enabling businesses to communicate more effectively with customers through chatbots, virtual assistants, and sentiment analysis. Moreover, AI-powered automation is revolutionizing operations by streamlining workflows, reducing manual tasks, and driving efficiency gains across multiple sectors.\n",
      "\n",
      "## Key Players in Artificial Intelligence\n",
      "Several tech giants are at the forefront of AI innovation, shaping the landscape with their cutting-edge technologies and solutions. Google stands out with its AI-powered products such as Google Assistant and Google Translate, while Amazon leads in e-commerce and cloud services driven by AI. IBM is a key player in AI research and development, with its Watson platform driving advancements in natural language understanding and cognitive computing. Tesla is disrupting the automotive industry with its self-driving technology and AI integration in electric vehicles, setting new standards for safety and automation.\n",
      "\n",
      "## Noteworthy News in Artificial Intelligence\n",
      "Recent developments in AI have been making headlines, showcasing the remarkable capabilities of advanced technologies. OpenAI's GPT-3 model continues to impress with its language generation capabilities, pushing the boundaries of AI-generated content. Microsoft's acquisition of Nuance Communications for $19.7 billion underscores the growing importance of AI in healthcare, with AI-powered solutions transforming patient care and medical diagnostics. Facebook's AI research team is at the forefront of exploring ethical implications and responsible development practices in AI, emphasizing the need for transparency and accountability in the deployment of AI technologies.\n",
      "\n",
      "## Conclusion\n",
      "Artificial Intelligence is reshaping industries, driving innovation, and transforming the way we live and work. By staying informed about the latest trends, key players, and noteworthy news in AI, businesses and individuals can harness the power of AI to drive growth, efficiency, and competitive advantage. As the AI landscape continues to evolve, it is crucial to stay updated on the latest developments and opportunities in this dynamic field.\n",
      "\n",
      "*Stay tuned for more insightful articles on specific AI topics and case studies to learn how you can leverage AI in your industry. Subscribe to our newsletter for the latest updates on Artificial Intelligence trends and news.*\n",
      "\n",
      "By following this comprehensive content plan, we aim to provide valuable insights and information on Artificial Intelligence to our target audience, empowering them to make informed decisions and stay ahead in the rapidly evolving AI landscape.\u001b[0m\n",
      "\n",
      "\u001b[1m> Finished chain.\u001b[0m\n",
      "\u001b[1m\u001b[92m [DEBUG]: == [Editor] Task output: # The Future of Artificial Intelligence: Trends, Players, and News\n",
      "\n",
      "## Introduction\n",
      "Artificial Intelligence (AI) has become a dominant force in the tech industry, driving innovation and transformation across various sectors. In this blog article, we will explore the latest trends, key players, and noteworthy news in the dynamic field of AI.\n",
      "\n",
      "## Latest Trends in Artificial Intelligence\n",
      "The rapid evolution of AI is evident in the increasing adoption of Machine Learning and Deep Learning algorithms. Industries like healthcare, finance, and transportation are leveraging these technologies to optimize processes, improve decision-making, and enhance customer experiences. Natural Language Processing (NLP) is another key trend, enabling businesses to communicate more effectively with customers through chatbots, virtual assistants, and sentiment analysis. Moreover, AI-powered automation is revolutionizing operations by streamlining workflows, reducing manual tasks, and driving efficiency gains across multiple sectors.\n",
      "\n",
      "## Key Players in Artificial Intelligence\n",
      "Several tech giants are at the forefront of AI innovation, shaping the landscape with their cutting-edge technologies and solutions. Google stands out with its AI-powered products such as Google Assistant and Google Translate, while Amazon leads in e-commerce and cloud services driven by AI. IBM is a key player in AI research and development, with its Watson platform driving advancements in natural language understanding and cognitive computing. Tesla is disrupting the automotive industry with its self-driving technology and AI integration in electric vehicles, setting new standards for safety and automation.\n",
      "\n",
      "## Noteworthy News in Artificial Intelligence\n",
      "Recent developments in AI have been making headlines, showcasing the remarkable capabilities of advanced technologies. OpenAI's GPT-3 model continues to impress with its language generation capabilities, pushing the boundaries of AI-generated content. Microsoft's acquisition of Nuance Communications for $19.7 billion underscores the growing importance of AI in healthcare, with AI-powered solutions transforming patient care and medical diagnostics. Facebook's AI research team is at the forefront of exploring ethical implications and responsible development practices in AI, emphasizing the need for transparency and accountability in the deployment of AI technologies.\n",
      "\n",
      "## Conclusion\n",
      "Artificial Intelligence is reshaping industries, driving innovation, and transforming the way we live and work. By staying informed about the latest trends, key players, and noteworthy news in AI, businesses and individuals can harness the power of AI to drive growth, efficiency, and competitive advantage. As the AI landscape continues to evolve, it is crucial to stay updated on the latest developments and opportunities in this dynamic field.\n",
      "\n",
      "*Stay tuned for more insightful articles on specific AI topics and case studies to learn how you can leverage AI in your industry. Subscribe to our newsletter for the latest updates on Artificial Intelligence trends and news.*\n",
      "\n",
      "By following this comprehensive content plan, we aim to provide valuable insights and information on Artificial Intelligence to our target audience, empowering them to make informed decisions and stay ahead in the rapidly evolving AI landscape.\n",
      "\n",
      "\u001b[00m\n"
     ]
    }
   ],
   "source": [
    "result = crew.kickoff(inputs={\"topic\": \"Artificial Intelligence\"})"
   ]
  },
  {
   "cell_type": "markdown",
   "metadata": {},
   "source": [
    "- Display the results of your execution as markdown in the notebook."
   ]
  },
  {
   "cell_type": "code",
   "execution_count": 12,
   "metadata": {
    "height": 47
   },
   "outputs": [
    {
     "data": {
      "text/markdown": [
       "# The Future of Artificial Intelligence: Trends, Players, and News\n",
       "\n",
       "## Introduction\n",
       "Artificial Intelligence (AI) has become a dominant force in the tech industry, driving innovation and transformation across various sectors. In this blog article, we will explore the latest trends, key players, and noteworthy news in the dynamic field of AI.\n",
       "\n",
       "## Latest Trends in Artificial Intelligence\n",
       "The rapid evolution of AI is evident in the increasing adoption of Machine Learning and Deep Learning algorithms. Industries like healthcare, finance, and transportation are leveraging these technologies to optimize processes, improve decision-making, and enhance customer experiences. Natural Language Processing (NLP) is another key trend, enabling businesses to communicate more effectively with customers through chatbots, virtual assistants, and sentiment analysis. Moreover, AI-powered automation is revolutionizing operations by streamlining workflows, reducing manual tasks, and driving efficiency gains across multiple sectors.\n",
       "\n",
       "## Key Players in Artificial Intelligence\n",
       "Several tech giants are at the forefront of AI innovation, shaping the landscape with their cutting-edge technologies and solutions. Google stands out with its AI-powered products such as Google Assistant and Google Translate, while Amazon leads in e-commerce and cloud services driven by AI. IBM is a key player in AI research and development, with its Watson platform driving advancements in natural language understanding and cognitive computing. Tesla is disrupting the automotive industry with its self-driving technology and AI integration in electric vehicles, setting new standards for safety and automation.\n",
       "\n",
       "## Noteworthy News in Artificial Intelligence\n",
       "Recent developments in AI have been making headlines, showcasing the remarkable capabilities of advanced technologies. OpenAI's GPT-3 model continues to impress with its language generation capabilities, pushing the boundaries of AI-generated content. Microsoft's acquisition of Nuance Communications for $19.7 billion underscores the growing importance of AI in healthcare, with AI-powered solutions transforming patient care and medical diagnostics. Facebook's AI research team is at the forefront of exploring ethical implications and responsible development practices in AI, emphasizing the need for transparency and accountability in the deployment of AI technologies.\n",
       "\n",
       "## Conclusion\n",
       "Artificial Intelligence is reshaping industries, driving innovation, and transforming the way we live and work. By staying informed about the latest trends, key players, and noteworthy news in AI, businesses and individuals can harness the power of AI to drive growth, efficiency, and competitive advantage. As the AI landscape continues to evolve, it is crucial to stay updated on the latest developments and opportunities in this dynamic field.\n",
       "\n",
       "*Stay tuned for more insightful articles on specific AI topics and case studies to learn how you can leverage AI in your industry. Subscribe to our newsletter for the latest updates on Artificial Intelligence trends and news.*\n",
       "\n",
       "By following this comprehensive content plan, we aim to provide valuable insights and information on Artificial Intelligence to our target audience, empowering them to make informed decisions and stay ahead in the rapidly evolving AI landscape."
      ],
      "text/plain": [
       "<IPython.core.display.Markdown object>"
      ]
     },
     "execution_count": 12,
     "metadata": {},
     "output_type": "execute_result"
    }
   ],
   "source": [
    "from IPython.display import Markdown\n",
    "Markdown(result)"
   ]
  },
  {
   "cell_type": "markdown",
   "metadata": {},
   "source": [
    "## Try it Yourself\n",
    "\n",
    "- Pass in a topic of your choice and see what the agents come up with!"
   ]
  },
  {
   "cell_type": "code",
   "execution_count": 13,
   "metadata": {
    "height": 47
   },
   "outputs": [
    {
     "name": "stdout",
     "output_type": "stream",
     "text": [
      "\u001b[1m\u001b[95m [DEBUG]: == Working Agent: Content Planner\u001b[00m\n",
      "\u001b[1m\u001b[95m [INFO]: == Starting Task: 1. Prioritize the latest trends, key players, and noteworthy news on YOUR TOPIC HERE.\n",
      "2. Identify the target audience, considering their interests and pain points.\n",
      "3. Develop a detailed content outline including an introduction, key points, and a call to action.\n",
      "4. Include SEO keywords and relevant data or sources.\u001b[00m\n",
      "\n",
      "\n",
      "\u001b[1m> Entering new CrewAgentExecutor chain...\u001b[0m\n",
      "\u001b[32;1m\u001b[1;3mI now can give a great answer\n",
      "\n",
      "Final Answer: \n",
      "\n",
      "Content Plan for Blog Article on \"YOUR TOPIC HERE\"\n",
      "\n",
      "1. Latest Trends, Key Players, and Noteworthy News:\n",
      "- Trend: The latest advancements in YOUR TOPIC HERE technology have revolutionized the industry.\n",
      "- Key Players: Company A and Company B are leading the way in innovation within the YOUR TOPIC HERE sector.\n",
      "- Noteworthy News: Recent studies have shown a significant increase in consumer interest in YOUR TOPIC HERE products.\n",
      "\n",
      "2. Target Audience Analysis:\n",
      "- Target Audience: The target audience for this blog article includes tech enthusiasts, industry professionals, and consumers interested in learning more about YOUR TOPIC HERE.\n",
      "- Interests: The audience is interested in staying up-to-date with the latest trends and developments in YOUR TOPIC HERE technology.\n",
      "- Pain Points: Common pain points for the audience include understanding complex technical concepts and navigating the rapidly changing landscape of YOUR TOPIC HERE products.\n",
      "\n",
      "3. Detailed Content Outline:\n",
      "- Introduction:\n",
      "   - Brief overview of the importance of YOUR TOPIC HERE in today's tech-driven world.\n",
      "- Key Points:\n",
      "   1. Explanation of the latest trends in YOUR TOPIC HERE technology.\n",
      "   2. Profiles of key players in the industry and their contributions to innovation.\n",
      "   3. Analysis of noteworthy news and its impact on consumers and the market.\n",
      "- Call to Action:\n",
      "   - Encourage readers to explore more about YOUR TOPIC HERE by visiting our website or subscribing to our newsletter for regular updates.\n",
      "\n",
      "4. SEO Keywords and Relevant Data:\n",
      "- SEO Keywords: YOUR TOPIC HERE technology, YOUR TOPIC HERE trends, YOUR TOPIC HERE industry news, YOUR TOPIC HERE innovations.\n",
      "- Relevant Data: Statistics from industry reports, quotes from industry experts, links to reputable sources for further reading.\n",
      "\n",
      "Resources:\n",
      "- Industry reports from reputable sources such as TechCrunch and Forbes.\n",
      "- Interviews with industry experts and key players in the YOUR TOPIC HERE sector.\n",
      "- Data and statistics from market research firms like Gartner and IDC.\n",
      "\n",
      "By following this comprehensive content plan, we aim to provide valuable insights and information to our target audience while optimizing for SEO and credibility through reliable sources and data.\u001b[0m\n",
      "\n",
      "\u001b[1m> Finished chain.\u001b[0m\n",
      "\u001b[1m\u001b[92m [DEBUG]: == [Content Planner] Task output: Content Plan for Blog Article on \"YOUR TOPIC HERE\"\n",
      "\n",
      "1. Latest Trends, Key Players, and Noteworthy News:\n",
      "- Trend: The latest advancements in YOUR TOPIC HERE technology have revolutionized the industry.\n",
      "- Key Players: Company A and Company B are leading the way in innovation within the YOUR TOPIC HERE sector.\n",
      "- Noteworthy News: Recent studies have shown a significant increase in consumer interest in YOUR TOPIC HERE products.\n",
      "\n",
      "2. Target Audience Analysis:\n",
      "- Target Audience: The target audience for this blog article includes tech enthusiasts, industry professionals, and consumers interested in learning more about YOUR TOPIC HERE.\n",
      "- Interests: The audience is interested in staying up-to-date with the latest trends and developments in YOUR TOPIC HERE technology.\n",
      "- Pain Points: Common pain points for the audience include understanding complex technical concepts and navigating the rapidly changing landscape of YOUR TOPIC HERE products.\n",
      "\n",
      "3. Detailed Content Outline:\n",
      "- Introduction:\n",
      "   - Brief overview of the importance of YOUR TOPIC HERE in today's tech-driven world.\n",
      "- Key Points:\n",
      "   1. Explanation of the latest trends in YOUR TOPIC HERE technology.\n",
      "   2. Profiles of key players in the industry and their contributions to innovation.\n",
      "   3. Analysis of noteworthy news and its impact on consumers and the market.\n",
      "- Call to Action:\n",
      "   - Encourage readers to explore more about YOUR TOPIC HERE by visiting our website or subscribing to our newsletter for regular updates.\n",
      "\n",
      "4. SEO Keywords and Relevant Data:\n",
      "- SEO Keywords: YOUR TOPIC HERE technology, YOUR TOPIC HERE trends, YOUR TOPIC HERE industry news, YOUR TOPIC HERE innovations.\n",
      "- Relevant Data: Statistics from industry reports, quotes from industry experts, links to reputable sources for further reading.\n",
      "\n",
      "Resources:\n",
      "- Industry reports from reputable sources such as TechCrunch and Forbes.\n",
      "- Interviews with industry experts and key players in the YOUR TOPIC HERE sector.\n",
      "- Data and statistics from market research firms like Gartner and IDC.\n",
      "\n",
      "By following this comprehensive content plan, we aim to provide valuable insights and information to our target audience while optimizing for SEO and credibility through reliable sources and data.\n",
      "\n",
      "\u001b[00m\n",
      "\u001b[1m\u001b[95m [DEBUG]: == Working Agent: Content Writer\u001b[00m\n",
      "\u001b[1m\u001b[95m [INFO]: == Starting Task: 1. Use the content plan to craft a compelling blog post on YOUR TOPIC HERE.\n",
      "2. Incorporate SEO keywords naturally.\n",
      "3. Sections/Subtitles are properly named in an engaging manner.\n",
      "4. Ensure the post is structured with an engaging introduction, insightful body, and a summarizing conclusion.\n",
      "5. Proofread for grammatical errors and alignment with the brand's voice.\n",
      "\u001b[00m\n",
      "\n",
      "\n",
      "\u001b[1m> Entering new CrewAgentExecutor chain...\u001b[0m\n",
      "\u001b[32;1m\u001b[1;3mI now can give a great answer\n",
      "\n",
      "Final Answer:\n",
      "\n",
      "# The Evolution of YOUR TOPIC HERE Technology: Trends, Players, and News\n",
      "\n",
      "In today's fast-paced and tech-driven world, the advancements in YOUR TOPIC HERE technology have been nothing short of revolutionary. From cutting-edge innovations to groundbreaking developments, the industry continues to push the boundaries of what is possible. Companies like Company A and Company B have emerged as key players in driving innovation within the YOUR TOPIC HERE sector, setting the stage for a new era of possibilities.\n",
      "\n",
      "The latest trends in YOUR TOPIC HERE technology are reshaping the way we interact with the world around us. Whether it's through enhanced user experiences, improved efficiency, or increased connectivity, these trends are shaping the future of the industry. Consumer interest in YOUR TOPIC HERE products is on the rise, with recent studies showing a significant increase in demand for these cutting-edge solutions. As the market continues to evolve, staying informed about the latest trends and developments in YOUR TOPIC HERE technology is essential for tech enthusiasts, industry professionals, and consumers alike.\n",
      "\n",
      "## Exploring Key Players and Industry News\n",
      "\n",
      "Company A and Company B are at the forefront of innovation within the YOUR TOPIC HERE sector, driving forward with groundbreaking technologies and solutions. Their contributions to the industry have been instrumental in shaping the landscape of YOUR TOPIC HERE technology, setting new standards for excellence and pushing the boundaries of what is possible. By staying ahead of the curve and investing in research and development, these key players are paving the way for a brighter and more interconnected future.\n",
      "\n",
      "Noteworthy news in the YOUR TOPIC HERE industry is shaping consumer preferences and market dynamics. From the latest product launches to industry partnerships and collaborations, these developments are influencing the way we interact with technology and the world around us. Understanding the impact of these changes on consumers and the market is essential for staying informed and making informed decisions in a rapidly evolving landscape. As the industry continues to evolve, keeping up with the latest news and developments is crucial for industry professionals and consumers interested in YOUR TOPIC HERE.\n",
      "\n",
      "## Embracing Innovation and Looking Ahead\n",
      "\n",
      "As we delve deeper into the world of YOUR TOPIC HERE technology, it becomes clear that the future holds endless possibilities for innovation and growth. By exploring the latest trends, profiling key players, and analyzing noteworthy news, we gain valuable insights into the industry's trajectory and potential impact on consumers and the market. Encouraging readers to explore more about YOUR TOPIC HERE by visiting our website or subscribing to our newsletter is a call to action for those looking to stay informed and ahead of the curve in this dynamic and ever-changing industry.\n",
      "\n",
      "In conclusion, the evolution of YOUR TOPIC HERE technology continues to shape the way we live, work, and interact with the world around us. By staying informed about the latest trends, key players, and industry news, we can better navigate the complexities of this rapidly changing landscape and embrace the endless possibilities for innovation and growth. As we look towards the future, it is essential to stay curious, informed, and proactive in exploring the vast potential of YOUR TOPIC HERE technology.\u001b[0m\n",
      "\n",
      "\u001b[1m> Finished chain.\u001b[0m\n",
      "\u001b[1m\u001b[92m [DEBUG]: == [Content Writer] Task output: # The Evolution of YOUR TOPIC HERE Technology: Trends, Players, and News\n",
      "\n",
      "In today's fast-paced and tech-driven world, the advancements in YOUR TOPIC HERE technology have been nothing short of revolutionary. From cutting-edge innovations to groundbreaking developments, the industry continues to push the boundaries of what is possible. Companies like Company A and Company B have emerged as key players in driving innovation within the YOUR TOPIC HERE sector, setting the stage for a new era of possibilities.\n",
      "\n",
      "The latest trends in YOUR TOPIC HERE technology are reshaping the way we interact with the world around us. Whether it's through enhanced user experiences, improved efficiency, or increased connectivity, these trends are shaping the future of the industry. Consumer interest in YOUR TOPIC HERE products is on the rise, with recent studies showing a significant increase in demand for these cutting-edge solutions. As the market continues to evolve, staying informed about the latest trends and developments in YOUR TOPIC HERE technology is essential for tech enthusiasts, industry professionals, and consumers alike.\n",
      "\n",
      "## Exploring Key Players and Industry News\n",
      "\n",
      "Company A and Company B are at the forefront of innovation within the YOUR TOPIC HERE sector, driving forward with groundbreaking technologies and solutions. Their contributions to the industry have been instrumental in shaping the landscape of YOUR TOPIC HERE technology, setting new standards for excellence and pushing the boundaries of what is possible. By staying ahead of the curve and investing in research and development, these key players are paving the way for a brighter and more interconnected future.\n",
      "\n",
      "Noteworthy news in the YOUR TOPIC HERE industry is shaping consumer preferences and market dynamics. From the latest product launches to industry partnerships and collaborations, these developments are influencing the way we interact with technology and the world around us. Understanding the impact of these changes on consumers and the market is essential for staying informed and making informed decisions in a rapidly evolving landscape. As the industry continues to evolve, keeping up with the latest news and developments is crucial for industry professionals and consumers interested in YOUR TOPIC HERE.\n",
      "\n",
      "## Embracing Innovation and Looking Ahead\n",
      "\n",
      "As we delve deeper into the world of YOUR TOPIC HERE technology, it becomes clear that the future holds endless possibilities for innovation and growth. By exploring the latest trends, profiling key players, and analyzing noteworthy news, we gain valuable insights into the industry's trajectory and potential impact on consumers and the market. Encouraging readers to explore more about YOUR TOPIC HERE by visiting our website or subscribing to our newsletter is a call to action for those looking to stay informed and ahead of the curve in this dynamic and ever-changing industry.\n",
      "\n",
      "In conclusion, the evolution of YOUR TOPIC HERE technology continues to shape the way we live, work, and interact with the world around us. By staying informed about the latest trends, key players, and industry news, we can better navigate the complexities of this rapidly changing landscape and embrace the endless possibilities for innovation and growth. As we look towards the future, it is essential to stay curious, informed, and proactive in exploring the vast potential of YOUR TOPIC HERE technology.\n",
      "\n",
      "\u001b[00m\n",
      "\u001b[1m\u001b[95m [DEBUG]: == Working Agent: Editor\u001b[00m\n",
      "\u001b[1m\u001b[95m [INFO]: == Starting Task: Proofread the given blog post for grammatical errors and alignment with the brand's voice.\u001b[00m\n",
      "\n",
      "\n",
      "\u001b[1m> Entering new CrewAgentExecutor chain...\u001b[0m\n"
     ]
    },
    {
     "name": "stdout",
     "output_type": "stream",
     "text": [
      "\u001b[32;1m\u001b[1;3mI now can give a great answer\n",
      "\n",
      "Final Answer:\n",
      "\n",
      "# The Evolution of YOUR TOPIC HERE Technology: Trends, Players, and News\n",
      "\n",
      "In today's fast-paced and tech-driven world, the advancements in YOUR TOPIC HERE technology have been nothing short of revolutionary. From cutting-edge innovations to groundbreaking developments, the industry continues to push the boundaries of what is possible. Companies like Company A and Company B have emerged as key players in driving innovation within the YOUR TOPIC HERE sector, setting the stage for a new era of possibilities.\n",
      "\n",
      "The latest trends in YOUR TOPIC HERE technology are reshaping the way we interact with the world around us. Whether it's through enhanced user experiences, improved efficiency, or increased connectivity, these trends are shaping the future of the industry. Consumer interest in YOUR TOPIC HERE products is on the rise, with recent studies showing a significant increase in demand for these cutting-edge solutions. As the market continues to evolve, staying informed about the latest trends and developments in YOUR TOPIC HERE technology is essential for tech enthusiasts, industry professionals, and consumers alike.\n",
      "\n",
      "## Exploring Key Players and Industry News\n",
      "\n",
      "Company A and Company B are at the forefront of innovation within the YOUR TOPIC HERE sector, driving forward with groundbreaking technologies and solutions. Their contributions to the industry have been instrumental in shaping the landscape of YOUR TOPIC HERE technology, setting new standards for excellence and pushing the boundaries of what is possible. By staying ahead of the curve and investing in research and development, these key players are paving the way for a brighter and more interconnected future.\n",
      "\n",
      "Noteworthy news in the YOUR TOPIC HERE industry is shaping consumer preferences and market dynamics. From the latest product launches to industry partnerships and collaborations, these developments are influencing the way we interact with technology and the world around us. Understanding the impact of these changes on consumers and the market is essential for staying informed and making informed decisions in a rapidly evolving landscape. As the industry continues to evolve, keeping up with the latest news and developments is crucial for industry professionals and consumers interested in YOUR TOPIC HERE.\n",
      "\n",
      "## Embracing Innovation and Looking Ahead\n",
      "\n",
      "As we delve deeper into the world of YOUR TOPIC HERE technology, it becomes clear that the future holds endless possibilities for innovation and growth. By exploring the latest trends, profiling key players, and analyzing noteworthy news, we gain valuable insights into the industry's trajectory and potential impact on consumers and the market. Encouraging readers to explore more about YOUR TOPIC HERE by visiting our website or subscribing to our newsletter is a call to action for those looking to stay informed and ahead of the curve in this dynamic and ever-changing industry.\n",
      "\n",
      "In conclusion, the evolution of YOUR TOPIC HERE technology continues to shape the way we live, work, and interact with the world around us. By staying informed about the latest trends, key players, and industry news, we can better navigate the complexities of this rapidly changing landscape and embrace the endless possibilities for innovation and growth. As we look towards the future, it is essential to stay curious, informed, and proactive in exploring the vast potential of YOUR TOPIC HERE technology.\u001b[0m\n",
      "\n",
      "\u001b[1m> Finished chain.\u001b[0m\n",
      "\u001b[1m\u001b[92m [DEBUG]: == [Editor] Task output: # The Evolution of YOUR TOPIC HERE Technology: Trends, Players, and News\n",
      "\n",
      "In today's fast-paced and tech-driven world, the advancements in YOUR TOPIC HERE technology have been nothing short of revolutionary. From cutting-edge innovations to groundbreaking developments, the industry continues to push the boundaries of what is possible. Companies like Company A and Company B have emerged as key players in driving innovation within the YOUR TOPIC HERE sector, setting the stage for a new era of possibilities.\n",
      "\n",
      "The latest trends in YOUR TOPIC HERE technology are reshaping the way we interact with the world around us. Whether it's through enhanced user experiences, improved efficiency, or increased connectivity, these trends are shaping the future of the industry. Consumer interest in YOUR TOPIC HERE products is on the rise, with recent studies showing a significant increase in demand for these cutting-edge solutions. As the market continues to evolve, staying informed about the latest trends and developments in YOUR TOPIC HERE technology is essential for tech enthusiasts, industry professionals, and consumers alike.\n",
      "\n",
      "## Exploring Key Players and Industry News\n",
      "\n",
      "Company A and Company B are at the forefront of innovation within the YOUR TOPIC HERE sector, driving forward with groundbreaking technologies and solutions. Their contributions to the industry have been instrumental in shaping the landscape of YOUR TOPIC HERE technology, setting new standards for excellence and pushing the boundaries of what is possible. By staying ahead of the curve and investing in research and development, these key players are paving the way for a brighter and more interconnected future.\n",
      "\n",
      "Noteworthy news in the YOUR TOPIC HERE industry is shaping consumer preferences and market dynamics. From the latest product launches to industry partnerships and collaborations, these developments are influencing the way we interact with technology and the world around us. Understanding the impact of these changes on consumers and the market is essential for staying informed and making informed decisions in a rapidly evolving landscape. As the industry continues to evolve, keeping up with the latest news and developments is crucial for industry professionals and consumers interested in YOUR TOPIC HERE.\n",
      "\n",
      "## Embracing Innovation and Looking Ahead\n",
      "\n",
      "As we delve deeper into the world of YOUR TOPIC HERE technology, it becomes clear that the future holds endless possibilities for innovation and growth. By exploring the latest trends, profiling key players, and analyzing noteworthy news, we gain valuable insights into the industry's trajectory and potential impact on consumers and the market. Encouraging readers to explore more about YOUR TOPIC HERE by visiting our website or subscribing to our newsletter is a call to action for those looking to stay informed and ahead of the curve in this dynamic and ever-changing industry.\n",
      "\n",
      "In conclusion, the evolution of YOUR TOPIC HERE technology continues to shape the way we live, work, and interact with the world around us. By staying informed about the latest trends, key players, and industry news, we can better navigate the complexities of this rapidly changing landscape and embrace the endless possibilities for innovation and growth. As we look towards the future, it is essential to stay curious, informed, and proactive in exploring the vast potential of YOUR TOPIC HERE technology.\n",
      "\n",
      "\u001b[00m\n"
     ]
    }
   ],
   "source": [
    "topic = \"YOUR TOPIC HERE\"\n",
    "result = crew.kickoff(inputs={\"topic\": topic})"
   ]
  },
  {
   "cell_type": "code",
   "execution_count": 14,
   "metadata": {
    "height": 30
   },
   "outputs": [
    {
     "data": {
      "text/markdown": [
       "# The Evolution of YOUR TOPIC HERE Technology: Trends, Players, and News\n",
       "\n",
       "In today's fast-paced and tech-driven world, the advancements in YOUR TOPIC HERE technology have been nothing short of revolutionary. From cutting-edge innovations to groundbreaking developments, the industry continues to push the boundaries of what is possible. Companies like Company A and Company B have emerged as key players in driving innovation within the YOUR TOPIC HERE sector, setting the stage for a new era of possibilities.\n",
       "\n",
       "The latest trends in YOUR TOPIC HERE technology are reshaping the way we interact with the world around us. Whether it's through enhanced user experiences, improved efficiency, or increased connectivity, these trends are shaping the future of the industry. Consumer interest in YOUR TOPIC HERE products is on the rise, with recent studies showing a significant increase in demand for these cutting-edge solutions. As the market continues to evolve, staying informed about the latest trends and developments in YOUR TOPIC HERE technology is essential for tech enthusiasts, industry professionals, and consumers alike.\n",
       "\n",
       "## Exploring Key Players and Industry News\n",
       "\n",
       "Company A and Company B are at the forefront of innovation within the YOUR TOPIC HERE sector, driving forward with groundbreaking technologies and solutions. Their contributions to the industry have been instrumental in shaping the landscape of YOUR TOPIC HERE technology, setting new standards for excellence and pushing the boundaries of what is possible. By staying ahead of the curve and investing in research and development, these key players are paving the way for a brighter and more interconnected future.\n",
       "\n",
       "Noteworthy news in the YOUR TOPIC HERE industry is shaping consumer preferences and market dynamics. From the latest product launches to industry partnerships and collaborations, these developments are influencing the way we interact with technology and the world around us. Understanding the impact of these changes on consumers and the market is essential for staying informed and making informed decisions in a rapidly evolving landscape. As the industry continues to evolve, keeping up with the latest news and developments is crucial for industry professionals and consumers interested in YOUR TOPIC HERE.\n",
       "\n",
       "## Embracing Innovation and Looking Ahead\n",
       "\n",
       "As we delve deeper into the world of YOUR TOPIC HERE technology, it becomes clear that the future holds endless possibilities for innovation and growth. By exploring the latest trends, profiling key players, and analyzing noteworthy news, we gain valuable insights into the industry's trajectory and potential impact on consumers and the market. Encouraging readers to explore more about YOUR TOPIC HERE by visiting our website or subscribing to our newsletter is a call to action for those looking to stay informed and ahead of the curve in this dynamic and ever-changing industry.\n",
       "\n",
       "In conclusion, the evolution of YOUR TOPIC HERE technology continues to shape the way we live, work, and interact with the world around us. By staying informed about the latest trends, key players, and industry news, we can better navigate the complexities of this rapidly changing landscape and embrace the endless possibilities for innovation and growth. As we look towards the future, it is essential to stay curious, informed, and proactive in exploring the vast potential of YOUR TOPIC HERE technology."
      ],
      "text/plain": [
       "<IPython.core.display.Markdown object>"
      ]
     },
     "execution_count": 14,
     "metadata": {},
     "output_type": "execute_result"
    }
   ],
   "source": [
    "Markdown(result)"
   ]
  },
  {
   "cell_type": "markdown",
   "metadata": {},
   "source": [
    "<a name='1'></a>\n",
    " ## Other Popular Models as LLM for your Agents"
   ]
  },
  {
   "cell_type": "markdown",
   "metadata": {},
   "source": [
    "#### Hugging Face (HuggingFaceHub endpoint)\n",
    "\n",
    "```Python\n",
    "from langchain_community.llms import HuggingFaceHub\n",
    "\n",
    "llm = HuggingFaceHub(\n",
    "    repo_id=\"HuggingFaceH4/zephyr-7b-beta\",\n",
    "    huggingfacehub_api_token=\"<HF_TOKEN_HERE>\",\n",
    "    task=\"text-generation\",\n",
    ")\n",
    "\n",
    "### you will pass \"llm\" to your agent function\n",
    "```"
   ]
  },
  {
   "cell_type": "markdown",
   "metadata": {},
   "source": [
    "#### Mistral API\n",
    "\n",
    "```Python\n",
    "OPENAI_API_KEY=your-mistral-api-key\n",
    "OPENAI_API_BASE=https://api.mistral.ai/v1\n",
    "OPENAI_MODEL_NAME=\"mistral-small\"\n",
    "```"
   ]
  },
  {
   "cell_type": "markdown",
   "metadata": {},
   "source": [
    "#### Cohere\n",
    "\n",
    "```Python\n",
    "from langchain_community.chat_models import ChatCohere\n",
    "# Initialize language model\n",
    "os.environ[\"COHERE_API_KEY\"] = \"your-cohere-api-key\"\n",
    "llm = ChatCohere()\n",
    "\n",
    "### you will pass \"llm\" to your agent function\n",
    "```"
   ]
  },
  {
   "cell_type": "markdown",
   "metadata": {},
   "source": [
    "### For using Llama locally with Ollama and more, checkout the crewAI documentation on [Connecting to any LLM](https://docs.crewai.com/how-to/LLM-Connections/)."
   ]
  },
  {
   "cell_type": "code",
   "execution_count": null,
   "metadata": {
    "height": 30
   },
   "outputs": [],
   "source": []
  }
 ],
 "metadata": {
  "colab": {
   "gpuType": "T4",
   "provenance": []
  },
  "kernelspec": {
   "display_name": "Python 3 (ipykernel)",
   "language": "python",
   "name": "python3"
  },
  "language_info": {
   "codemirror_mode": {
    "name": "ipython",
    "version": 3
   },
   "file_extension": ".py",
   "mimetype": "text/x-python",
   "name": "python",
   "nbconvert_exporter": "python",
   "pygments_lexer": "ipython3",
   "version": "3.11.9"
  }
 },
 "nbformat": 4,
 "nbformat_minor": 4
}
